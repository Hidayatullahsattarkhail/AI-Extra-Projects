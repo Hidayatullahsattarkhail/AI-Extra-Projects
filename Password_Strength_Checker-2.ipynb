{
  "nbformat": 4,
  "nbformat_minor": 0,
  "metadata": {
    "colab": {
      "provenance": []
    },
    "kernelspec": {
      "name": "python3",
      "display_name": "Python 3"
    },
    "language_info": {
      "name": "python"
    }
  },
  "cells": [
    {
      "cell_type": "markdown",
      "source": [
        "# 📘 Lab Report\n",
        "\n",
        "## Name: **HIDAYAT ULLAH**  \n",
        "## R No: **B24F0050AI099**  \n",
        "## Lab No: **03**  \n",
        "## Date: **03/10/2025**  \n",
        "## Submitted to: **Engineer ABDULLAH SAJID**\n"
      ],
      "metadata": {
        "id": "NQO5CotsHmkY"
      }
    },
    {
      "cell_type": "code",
      "execution_count": null,
      "metadata": {
        "id": "rjMJT3aXHbS4"
      },
      "outputs": [],
      "source": [
        "password = input(\"Enter your password: \")\n",
        "score = 0\n",
        "\n",
        "common_pass = ['12345678', 'hello123', 'abc12345', 'qwerty', 'password']\n",
        "special = \"!\\\"#$%&'()*+,-./:;<=>?@[\\\\]^_`{|}~\"\n",
        "\n",
        "print(\"\\nPassword Strength Analysis:\")\n",
        "\n",
        "# 1. Length check\n",
        "if len(password) >= 8:\n",
        "    print(\"Length: ✓ (8+ characters)\")\n",
        "    score += 1\n",
        "else:\n",
        "    print(\"Length: ✗ (Too short)\")\n",
        "\n",
        "# 2. Uppercase + Lowercase\n",
        "if any(c.isupper() for c in password) and any(c.islower() for c in password):\n",
        "    print(\"Uppercase and lowercase: ✓\")\n",
        "    score += 1\n",
        "else:\n",
        "    print(\"Uppercase and lowercase: ✗\")\n",
        "\n",
        "# 3. Digit check\n",
        "if any(c.isdigit() for c in password):\n",
        "    print(\"Contains digit: ✓\")\n",
        "    score += 1\n",
        "else:\n",
        "    print(\"Contains digit: ✗\")\n",
        "\n",
        "# 4. Special character\n",
        "if any(c in special for c in password):\n",
        "    print(\"Contains special character: ✓\")\n",
        "    score += 1\n",
        "else:\n",
        "    print(\"Contains special character: ✗\")\n",
        "\n",
        "# 5. Not a common password\n",
        "if password not in common_pass:\n",
        "    print(\"Not a common password: ✓\")\n",
        "    score += 1\n",
        "else:\n",
        "    print(\"Not a common password: ✗\")\n",
        "\n",
        "# Final result\n",
        "print(f\"\\nStrength score: {score}/5\", end=\" - \")\n",
        "if score == 5:\n",
        "    print(\"Very Strong!\")\n",
        "elif score >= 3:\n",
        "    print(\"Strong\")\n",
        "elif score >= 2:\n",
        "    print(\"Medium\")\n",
        "else:\n",
        "    print(\"Weak\")\n"
      ]
    },
    {
      "cell_type": "markdown",
      "source": [
        "#`Description`\n",
        "This program check password strength. User type a password as input. Program give score based on some rules. If length is 8 or more, score increase. If password is not common, score increase. If password has uppercase, lowercase, digit and special characte"
      ],
      "metadata": {
        "id": "X0qLP8XIHzJk"
      }
    }
  ]
}